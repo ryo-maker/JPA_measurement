{
 "cells": [
  {
   "cell_type": "markdown",
   "metadata": {},
   "source": [
    "# Qubit周波数のCW測定\n",
    "\n",
    "### 事前にやっておくこと\n",
    "1. Anritsuのソフトウェアを立ち上げておく(Home>System>Network InterfaceからIP AddressとTCP Port Numberを確認しておく)\n",
    "1. ネトアナのポート2(return)の直前に室温アンプを入れておく\n",
    "\n",
    "### 注意点\n",
    "1. やり直す時はカーネルを再起動(Restartボタン)してから実行する\n",
    "1. 共振器用の測定プログラムは閉じておく"
   ]
  },
  {
   "cell_type": "markdown",
   "metadata": {},
   "source": [
    "### どのQubitにするか決める"
   ]
  },
  {
   "cell_type": "code",
   "execution_count": 1,
   "metadata": {},
   "outputs": [],
   "source": [
    "\"\"\"ライブラリインポート\"\"\"\n",
    "import socket\n",
    "import time\n",
    "import datetime\n",
    "import numpy as np\n",
    "import matplotlib.pyplot as plt\n",
    "from scipy.optimize import curve_fit\n",
    "from VaunixLMS183DX.VaunixLMS183DX import VaunixLMS183DX\n",
    "from VaunixLDA133.VaunixLDA133 import VaunixLDA133\n"
   ]
  },
  {
   "cell_type": "code",
   "execution_count": 2,
   "metadata": {},
   "outputs": [],
   "source": [
    "\"\"\"読み出し共振器の周波数と可変アテネータの設定\"\"\"\n",
    "readout_freq = 10.25 # ,9.9981\n",
    "att = 10"
   ]
  },
  {
   "cell_type": "markdown",
   "metadata": {},
   "source": [
    "### 機器のパラメータ設定と測定"
   ]
  },
  {
   "cell_type": "code",
   "execution_count": 5,
   "metadata": {},
   "outputs": [
    {
     "ename": "ValueError",
     "evalue": "x and y must have same first dimension, but have shapes (1,) and (500,)",
     "output_type": "error",
     "traceback": [
      "\u001b[1;31m---------------------------------------------------------------------------\u001b[0m",
      "\u001b[1;31mValueError\u001b[0m                                Traceback (most recent call last)",
      "\u001b[1;32m<ipython-input-5-13b97f98e379>\u001b[0m in \u001b[0;36m<module>\u001b[1;34m\u001b[0m\n\u001b[0;32m    128\u001b[0m \u001b[1;33m\u001b[0m\u001b[0m\n\u001b[0;32m    129\u001b[0m     \u001b[1;31m#測定データのプロット\u001b[0m\u001b[1;33m\u001b[0m\u001b[1;33m\u001b[0m\u001b[1;33m\u001b[0m\u001b[0m\n\u001b[1;32m--> 130\u001b[1;33m     \u001b[0max1\u001b[0m\u001b[1;33m.\u001b[0m\u001b[0mplot\u001b[0m\u001b[1;33m(\u001b[0m\u001b[0mfreq\u001b[0m\u001b[1;33m,\u001b[0m \u001b[0mmag\u001b[0m\u001b[1;33m[\u001b[0m\u001b[0mpower\u001b[0m\u001b[1;33m]\u001b[0m\u001b[1;33m,\u001b[0m \u001b[0mlabel\u001b[0m \u001b[1;33m=\u001b[0m \u001b[1;34mf\"Signal power : {power} dBm\"\u001b[0m\u001b[1;33m)\u001b[0m\u001b[1;33m\u001b[0m\u001b[1;33m\u001b[0m\u001b[0m\n\u001b[0m\u001b[0;32m    131\u001b[0m     \u001b[0max2\u001b[0m\u001b[1;33m.\u001b[0m\u001b[0mplot\u001b[0m\u001b[1;33m(\u001b[0m\u001b[0mfreq\u001b[0m\u001b[1;33m,\u001b[0m \u001b[0mphase_rad\u001b[0m\u001b[1;33m[\u001b[0m\u001b[0mpower\u001b[0m\u001b[1;33m]\u001b[0m \u001b[1;33m-\u001b[0m \u001b[1;36m2\u001b[0m\u001b[1;33m*\u001b[0m\u001b[0mi\u001b[0m\u001b[1;33m,\u001b[0m \u001b[0mlabel\u001b[0m \u001b[1;33m=\u001b[0m \u001b[1;34mf\"Signal power : {power} dBm\"\u001b[0m\u001b[1;33m)\u001b[0m\u001b[1;33m\u001b[0m\u001b[1;33m\u001b[0m\u001b[0m\n\u001b[0;32m    132\u001b[0m     \u001b[1;31m# ax1.plot(freq_MHz, mag[power], label = f\"Signal power : {power} dBm\")\u001b[0m\u001b[1;33m\u001b[0m\u001b[1;33m\u001b[0m\u001b[1;33m\u001b[0m\u001b[0m\n",
      "\u001b[1;32mc:\\Users\\super\\anaconda3\\lib\\site-packages\\matplotlib\\axes\\_axes.py\u001b[0m in \u001b[0;36mplot\u001b[1;34m(self, scalex, scaley, data, *args, **kwargs)\u001b[0m\n\u001b[0;32m   1741\u001b[0m         \"\"\"\n\u001b[0;32m   1742\u001b[0m         \u001b[0mkwargs\u001b[0m \u001b[1;33m=\u001b[0m \u001b[0mcbook\u001b[0m\u001b[1;33m.\u001b[0m\u001b[0mnormalize_kwargs\u001b[0m\u001b[1;33m(\u001b[0m\u001b[0mkwargs\u001b[0m\u001b[1;33m,\u001b[0m \u001b[0mmlines\u001b[0m\u001b[1;33m.\u001b[0m\u001b[0mLine2D\u001b[0m\u001b[1;33m)\u001b[0m\u001b[1;33m\u001b[0m\u001b[1;33m\u001b[0m\u001b[0m\n\u001b[1;32m-> 1743\u001b[1;33m         \u001b[0mlines\u001b[0m \u001b[1;33m=\u001b[0m \u001b[1;33m[\u001b[0m\u001b[1;33m*\u001b[0m\u001b[0mself\u001b[0m\u001b[1;33m.\u001b[0m\u001b[0m_get_lines\u001b[0m\u001b[1;33m(\u001b[0m\u001b[1;33m*\u001b[0m\u001b[0margs\u001b[0m\u001b[1;33m,\u001b[0m \u001b[0mdata\u001b[0m\u001b[1;33m=\u001b[0m\u001b[0mdata\u001b[0m\u001b[1;33m,\u001b[0m \u001b[1;33m**\u001b[0m\u001b[0mkwargs\u001b[0m\u001b[1;33m)\u001b[0m\u001b[1;33m]\u001b[0m\u001b[1;33m\u001b[0m\u001b[1;33m\u001b[0m\u001b[0m\n\u001b[0m\u001b[0;32m   1744\u001b[0m         \u001b[1;32mfor\u001b[0m \u001b[0mline\u001b[0m \u001b[1;32min\u001b[0m \u001b[0mlines\u001b[0m\u001b[1;33m:\u001b[0m\u001b[1;33m\u001b[0m\u001b[1;33m\u001b[0m\u001b[0m\n\u001b[0;32m   1745\u001b[0m             \u001b[0mself\u001b[0m\u001b[1;33m.\u001b[0m\u001b[0madd_line\u001b[0m\u001b[1;33m(\u001b[0m\u001b[0mline\u001b[0m\u001b[1;33m)\u001b[0m\u001b[1;33m\u001b[0m\u001b[1;33m\u001b[0m\u001b[0m\n",
      "\u001b[1;32mc:\\Users\\super\\anaconda3\\lib\\site-packages\\matplotlib\\axes\\_base.py\u001b[0m in \u001b[0;36m__call__\u001b[1;34m(self, data, *args, **kwargs)\u001b[0m\n\u001b[0;32m    271\u001b[0m                 \u001b[0mthis\u001b[0m \u001b[1;33m+=\u001b[0m \u001b[0margs\u001b[0m\u001b[1;33m[\u001b[0m\u001b[1;36m0\u001b[0m\u001b[1;33m]\u001b[0m\u001b[1;33m,\u001b[0m\u001b[1;33m\u001b[0m\u001b[1;33m\u001b[0m\u001b[0m\n\u001b[0;32m    272\u001b[0m                 \u001b[0margs\u001b[0m \u001b[1;33m=\u001b[0m \u001b[0margs\u001b[0m\u001b[1;33m[\u001b[0m\u001b[1;36m1\u001b[0m\u001b[1;33m:\u001b[0m\u001b[1;33m]\u001b[0m\u001b[1;33m\u001b[0m\u001b[1;33m\u001b[0m\u001b[0m\n\u001b[1;32m--> 273\u001b[1;33m             \u001b[1;32myield\u001b[0m \u001b[1;32mfrom\u001b[0m \u001b[0mself\u001b[0m\u001b[1;33m.\u001b[0m\u001b[0m_plot_args\u001b[0m\u001b[1;33m(\u001b[0m\u001b[0mthis\u001b[0m\u001b[1;33m,\u001b[0m \u001b[0mkwargs\u001b[0m\u001b[1;33m)\u001b[0m\u001b[1;33m\u001b[0m\u001b[1;33m\u001b[0m\u001b[0m\n\u001b[0m\u001b[0;32m    274\u001b[0m \u001b[1;33m\u001b[0m\u001b[0m\n\u001b[0;32m    275\u001b[0m     \u001b[1;32mdef\u001b[0m \u001b[0mget_next_color\u001b[0m\u001b[1;33m(\u001b[0m\u001b[0mself\u001b[0m\u001b[1;33m)\u001b[0m\u001b[1;33m:\u001b[0m\u001b[1;33m\u001b[0m\u001b[1;33m\u001b[0m\u001b[0m\n",
      "\u001b[1;32mc:\\Users\\super\\anaconda3\\lib\\site-packages\\matplotlib\\axes\\_base.py\u001b[0m in \u001b[0;36m_plot_args\u001b[1;34m(self, tup, kwargs)\u001b[0m\n\u001b[0;32m    397\u001b[0m \u001b[1;33m\u001b[0m\u001b[0m\n\u001b[0;32m    398\u001b[0m         \u001b[1;32mif\u001b[0m \u001b[0mx\u001b[0m\u001b[1;33m.\u001b[0m\u001b[0mshape\u001b[0m\u001b[1;33m[\u001b[0m\u001b[1;36m0\u001b[0m\u001b[1;33m]\u001b[0m \u001b[1;33m!=\u001b[0m \u001b[0my\u001b[0m\u001b[1;33m.\u001b[0m\u001b[0mshape\u001b[0m\u001b[1;33m[\u001b[0m\u001b[1;36m0\u001b[0m\u001b[1;33m]\u001b[0m\u001b[1;33m:\u001b[0m\u001b[1;33m\u001b[0m\u001b[1;33m\u001b[0m\u001b[0m\n\u001b[1;32m--> 399\u001b[1;33m             raise ValueError(f\"x and y must have same first dimension, but \"\n\u001b[0m\u001b[0;32m    400\u001b[0m                              f\"have shapes {x.shape} and {y.shape}\")\n\u001b[0;32m    401\u001b[0m         \u001b[1;32mif\u001b[0m \u001b[0mx\u001b[0m\u001b[1;33m.\u001b[0m\u001b[0mndim\u001b[0m \u001b[1;33m>\u001b[0m \u001b[1;36m2\u001b[0m \u001b[1;32mor\u001b[0m \u001b[0my\u001b[0m\u001b[1;33m.\u001b[0m\u001b[0mndim\u001b[0m \u001b[1;33m>\u001b[0m \u001b[1;36m2\u001b[0m\u001b[1;33m:\u001b[0m\u001b[1;33m\u001b[0m\u001b[1;33m\u001b[0m\u001b[0m\n",
      "\u001b[1;31mValueError\u001b[0m: x and y must have same first dimension, but have shapes (1,) and (500,)"
     ]
    },
    {
     "data": {
      "image/png": "[encoded data removed]",
      "text/plain": [
       "<Figure size 1440x720 with 2 Axes>"
      ]
     },
     "metadata": {
      "needs_background": "light"
     },
     "output_type": "display_data"
    }
   ],
   "source": [
    "\n",
    "\"\"\"機器のパラメータ\"\"\"\n",
    "'''Anritsuネトアナ(MS46122B)'''\n",
    "#通信パラメータ（いじらなくてよい）\n",
    "from cmath import phase\n",
    "\n",
    "\n",
    "ip = \"192.168.1.74\" #IPアドレス(Anritsuのソフトウェアから確認できる)\n",
    "# ip = \"133.1.194.69\" #IPアドレス(Anritsuのソフトウェアから確認できる)\n",
    "send_port = 5001 #ソケットを送信するポート番号\n",
    "recv_port = 2056 #ソケットを受信するポート番号\n",
    "\n",
    "#機器のパラメータ\n",
    "na_start_freq = readout_freq*1E9 #Network analyzer sweep start frequency (Hz)\n",
    "na_end_freq = na_start_freq + 50   #Network analyzer sweep end frequency (Hz)\n",
    "na_span_freq = na_end_freq - na_start_freq #Sweep frequency span\n",
    "na_power = \"LOW\" #Output power (LOW or High)\n",
    "na_point = 500   #Number of measurement points\n",
    "na_ifbw = 10     #IFBW (Hz)\n",
    "na_avg = 10      #Average (set from 1 to 1024)\n",
    "na_avg_switch = \"OFF\"  #Average switch (ON or OFF)\n",
    "na_phase_offset = 100  #Phase offset (degrees)\n",
    "na_sweep_mode = \"SING\" #Number of sweeps\n",
    "\n",
    "\n",
    "# '''Vaunix 信号発生器(LMS-183)'''\n",
    "# #通信パラメータ\n",
    "# serial_number_sg = 24451\n",
    "\n",
    "#機器のパラメータ\n",
    "# swp_start_freq = 8000.0e6 #Hz, sweep start frequency\n",
    "# swp_end_freq = 9000.0e6 #Hz, sweep end frequency\n",
    "# power_level = -30.0 #dBm, power\n",
    "sweep_time = 51.27 #s, sweep time\n",
    "time_list = np.linspace(0,sweep_time,na_point)\n",
    "\n",
    "# '''Vaunix 可変アテネータ(LDA-133)'''\n",
    "# #通信パラメータ\n",
    "# serial_number_att = 28429\n",
    "\n",
    "\"\"\"機器と接続\"\"\"\n",
    "'''Anritsu ネトアナ'''\n",
    "vna = socket.socket(socket.AF_INET, socket.SOCK_STREAM)\n",
    "vna.connect((ip, send_port))\n",
    "\n",
    "# '''Vaunix 信号発生器'''\n",
    "# vaunix_lms183dx = VaunixLMS183DX(\n",
    "#     serial_number_sg\n",
    "# )\n",
    "\n",
    "# '''Vaunix 可変アテネータ'''\n",
    "# vaunix_lda133 = VaunixLDA133(\n",
    "#     serial_number_att\n",
    "# )\n",
    "\n",
    "\"\"\"キャリブレーション\"\"\"\n",
    "vna.send(str.encode(\"SENS1:CORR:COEF:CAL:FILE 'G:\\マイドライブ\\RyoyaOhashi\\CW測定\\SetupFile#1.chx'\"))\n",
    "\n",
    "\"\"\"グラフの定義\"\"\"\n",
    "plt.rcParams[\"font.size\"] = 14 #まとめてフォントサイズを変える\n",
    "fig = plt.figure(figsize=(20,10))\n",
    "ax1 = plt.subplot(2, 1, 1)\n",
    "ax2 = plt.subplot(2, 1, 2)\n",
    "\n",
    "\"\"\"信号発生器のパワーをfor文回す\"\"\"\n",
    "\n",
    "#信号発生器の掃引パワーリスト\n",
    "power_list = np.arange(-70, -75, -5) \n",
    "# power_list = np.arange(-20, -25, -5) \n",
    "\n",
    "i=0\n",
    "freq={}\n",
    "mag={}\n",
    "phase_deg={}\n",
    "phase_rad={}\n",
    "\n",
    "for power in power_list:\n",
    "\n",
    "    # '''Vaunix 可変アテネータ'''\n",
    "    # vaunix_lda133.set_att(att)\n",
    "\n",
    "    '''Anritsu ネトアナ'''\n",
    "    vna.send(str.encode(f\"SENS:FREQ:SPAN {na_span_freq}\\n\"))  #スイープ範囲の設定\n",
    "    vna.send(str.encode(f\"SENS:FREQ:STAR {na_start_freq}\\n\")) #スイープする周波数帯域の開始周波数を設定\n",
    "    vna.send(str.encode(f\"SENS:FREQ:STOP {na_end_freq}\\n\"))   #スイープする周波数帯域の終了周波数を設定\n",
    "    vna.send(str.encode(f\"SOUR:POW {na_power}\\n\"))            #パワー\n",
    "    vna.send(str.encode(f\"SENS:SWEEP:POINT {na_point}\\n\"))    #測定ポイント数\n",
    "    vna.send(str.encode(f\"SENS:BAND {na_ifbw}\\n\"))            #IFBW\n",
    "    vna.send(str.encode(f\"SENS:AVER:COUN {na_avg}\\n\"))        #Average\n",
    "    vna.send(str.encode(f\"SENS:AVER {na_avg_switch}\\n\"))      #AverageのON OFF\n",
    "    vna.send(str.encode(f\"CALC:REF:EXT:PORT1:PHA {na_phase_offset}\\n\")) #Phase Offset\n",
    "    vna.send(str.encode(f\"SENS:HOLD:FUNC {na_sweep_mode}\\n\")) #スイープモードの設定\n",
    "\n",
    "    # '''Vaunix 信号発生器'''\n",
    "    # # vaunix_lms183dx.set_start_frequency(swp_start_freq) #スイープ開始周波数\n",
    "    # # vaunix_lms183dx.set_end_frequency(swp_end_freq)     #スイープ終了周波数\n",
    "    # vaunix_lms183dx.set_power_level(power)        #パワー\n",
    "    # vaunix_lms183dx.set_sweep_time(sweep_time)          #スイープ時間\n",
    "    # vaunix_lms183dx.set_sweep_mode(False)               #One Time Sweep\n",
    "\n",
    "    # \"\"\"測定の開始\"\"\"\n",
    "    # vna.send(str.encode(\"SENS:HOLD:FUNC SING\\n\"))\n",
    "    # vaunix_lms183dx.on()\n",
    "    # vaunix_lms183dx.start_sweep(True)\n",
    "\n",
    "    \"\"\"スイープ終わるまで待つ\"\"\"\n",
    "    time.sleep(sweep_time + 10)\n",
    "\n",
    "    # \"\"\"機器との接続を終了\"\"\"\n",
    "    # vaunix_lms183dx.off()\n",
    "\n",
    "    \"\"\"データ取得\"\"\"\n",
    "    now = datetime.datetime.now()\n",
    "    filename = now.strftime(f'%Y%m%d__%H%M%S_{readout_freq}_GHz') + '.csv'\n",
    "    # filename = now.strftime(f'%Y%m%d__%H%M%S_{readout_freq}_GHz_{power}_dBm') + '.csv'\n",
    "    vna.send(str.encode(f'MMEM:STOR \"C:/Users/super/Desktop/RyoyaOhashi_C/{filename}\"\\n')) #Gドライブは保存できないので，Cドライブ(ローカル)に保存する\n",
    "\n",
    "    \"\"\"データの描画\"\"\"\n",
    "    #測定データの読み込み\n",
    "    time.sleep(5.0) #データが保存される前に読み込むとエラーになる．\n",
    "    csvname = f\"C:/Users/super/Desktop/RyoyaOhashi_C/{filename}\" #データ取得で指定したCドライブへのパスを指定する\n",
    "    freq[power], mag[power], phase_deg[power] = np.loadtxt(csvname, skiprows=17, usecols=[1, 2, 3], delimiter=',', unpack=True)\n",
    "    phase_rad[power] = phase_deg[power] * np.pi / 180\n",
    "\n",
    "    #信号発生器の掃引周波数リスト\n",
    "    # diff = swp_end_freq - swp_start_freq\n",
    "    # delta_f = diff / 500\n",
    "    # freq = [i for i in np.arange(swp_start_freq, swp_end_freq, delta_f)]\n",
    "    # freq_MHz = np.array(freq) / 1e6 # MHz単位に変更\n",
    "\n",
    "\n",
    "\n",
    "    #測定データのプロット\n",
    "    ax1.plot(freq[power], mag[power], label = f\"Signal power : {power} dBm\")\n",
    "    ax2.plot(freq[power], phase_rad[power] - 2*i, label = f\"Signal power : {power} dBm\")\n",
    "    # ax1.plot(freq_MHz, mag[power], label = f\"Signal power : {power} dBm\")\n",
    "    # ax2.plot(freq_MHz, phase_rad[power] - 2*i, label = f\"Signal power : {power} dBm\")\n",
    "    i+=1\n",
    "\n",
    "ax1.set_title(\"Drive Frequency = \" + str(readout_freq), size=22)\n",
    "ax1.set_xlabel(\"time / s\", size = 24)\n",
    "ax1.set_ylabel(\"Magnitude / dB\", size = 24)\n",
    "ax1.legend() \n",
    "plt.tick_params(labelsize=18)\n",
    "ax1.grid()\n",
    "\n",
    "# ax2.set_title(\"Drive Frequency = \" + str(readout_freq), size=22)\n",
    "ax2.set_xlabel(\"time / s\", size = 24)\n",
    "ax2.set_ylabel(\"Phase / rad\", size = 24)\n",
    "ax2.legend() \n",
    "plt.tick_params(labelsize=18)\n",
    "ax2.grid()\n",
    "\n",
    "# \"\"\"設定されたパラメータの出力\"\"\"\n",
    "# print(\"Vaunix 信号発生器のパラメータ：\")\n",
    "# print(\"Start Frequency : \", vaunix_lms183dx.get_start_frequency()/1e9, \"GHz\")\n",
    "# print(\"End Frequency : \", vaunix_lms183dx.get_end_frequency()/1e9, \"GHz\")\n",
    "# # print(\"Power Level : \", vaunix_lms183dx.get_power_level(), \"dBm\")\n",
    "# print(\"Sweep Time : \", vaunix_lms183dx.get_sweep_time(), \"s\")\n",
    "# # print(\"\")\n",
    "# print(\"Vaunix 可変アテネータのパラメータ : \")\n",
    "# print(\"attenuation : \", vaunix_lda133.get_att(), \"dB\")"
   ]
  },
  {
   "cell_type": "code",
   "execution_count": 4,
   "metadata": {},
   "outputs": [
    {
     "ename": "KeyError",
     "evalue": "-70",
     "output_type": "error",
     "traceback": [
      "\u001b[1;31m---------------------------------------------------------------------------\u001b[0m",
      "\u001b[1;31mKeyError\u001b[0m                                  Traceback (most recent call last)",
      "\u001b[1;32m<ipython-input-4-6b90a0a8c58a>\u001b[0m in \u001b[0;36m<module>\u001b[1;34m\u001b[0m\n\u001b[0;32m      5\u001b[0m \u001b[1;33m\u001b[0m\u001b[0m\n\u001b[0;32m      6\u001b[0m \u001b[1;32mfor\u001b[0m \u001b[0mpower\u001b[0m \u001b[1;32min\u001b[0m \u001b[0mpower_list\u001b[0m\u001b[1;33m:\u001b[0m\u001b[1;33m\u001b[0m\u001b[1;33m\u001b[0m\u001b[0m\n\u001b[1;32m----> 7\u001b[1;33m     \u001b[0mmag_2D_list\u001b[0m\u001b[1;33m.\u001b[0m\u001b[0mappend\u001b[0m\u001b[1;33m(\u001b[0m\u001b[0mmag\u001b[0m\u001b[1;33m[\u001b[0m\u001b[0mpower\u001b[0m\u001b[1;33m]\u001b[0m\u001b[1;33m)\u001b[0m\u001b[1;33m\u001b[0m\u001b[1;33m\u001b[0m\u001b[0m\n\u001b[0m\u001b[0;32m      8\u001b[0m     \u001b[0mphase_2D_list\u001b[0m\u001b[1;33m.\u001b[0m\u001b[0mappend\u001b[0m\u001b[1;33m(\u001b[0m\u001b[0mphase_rad\u001b[0m\u001b[1;33m[\u001b[0m\u001b[0mpower\u001b[0m\u001b[1;33m]\u001b[0m\u001b[1;33m)\u001b[0m\u001b[1;33m\u001b[0m\u001b[1;33m\u001b[0m\u001b[0m\n\u001b[0;32m      9\u001b[0m \u001b[1;33m\u001b[0m\u001b[0m\n",
      "\u001b[1;31mKeyError\u001b[0m: -70"
     ]
    }
   ],
   "source": [
    "\"\"\"magとphase_radを辞書型から2次元リストに変更\"\"\"\n",
    "\n",
    "mag_2D_list = []\n",
    "phase_2D_list = []\n",
    "\n",
    "for power in power_list:\n",
    "    mag_2D_list.append(mag[power])\n",
    "    phase_2D_list.append(phase_rad[power])\n",
    "\n",
    "\n",
    "\"\"\"カラーマップに描画\"\"\"\n",
    "\n",
    "X, Y = np.meshgrid(freq_MHz, power_list)\n",
    "Z_mag = mag_2D_list\n",
    "Z_phase = phase_2D_list\n",
    "        \n",
    "# グラフ描画\n",
    "fig, axes = plt.subplots(figsize=(18,6), ncols=2, nrows=1)\n",
    "im0 = axes[0].pcolormesh(X, Y, Z_mag)\n",
    "axes[0].set_xlabel(\"Drive frequency / MHz\")\n",
    "axes[0].set_ylabel(\"Drive power / dBm\")\n",
    "axes[0].invert_yaxis()\n",
    "\n",
    "im1 = axes[1].pcolormesh(X, Y, Z_phase)\n",
    "axes[1].set_xlabel(\"Drive frequency / MHz\")\n",
    "axes[1].set_ylabel(\"Drive power / dBm\")\n",
    "axes[1].invert_yaxis()\n",
    "\n",
    "cbar0 = fig.colorbar(im0, ax=axes[0])\n",
    "cbar0.set_label(\"Magnitude of S21\")\n",
    "cbar1 = fig.colorbar(im1, ax=axes[1])\n",
    "cbar1.set_label(\"Phase of S21\")\n",
    "fig.tight_layout() # これが無いと表示が少し崩れる\n",
    "\n",
    "plt.show()"
   ]
  },
  {
   "cell_type": "markdown",
   "metadata": {},
   "source": [
    "### Qubit周波数の解析\n",
    "着目したいドライブパワーと周波数範囲を指定し, 共振点がディップかピークかによってコメントアウトを付け替える.  \n",
    "f_geとf_efを出力し, 次のセル中の変数に代入することで, 非調和度が出力される. "
   ]
  },
  {
   "cell_type": "code",
   "execution_count": 7,
   "metadata": {},
   "outputs": [
    {
     "name": "stdout",
     "output_type": "stream",
     "text": [
      "Qubitの周波数： 8772.0 MHz\n"
     ]
    }
   ],
   "source": [
    "\"\"\"データの解析\"\"\"\n",
    "\n",
    "power = -70 #見たいドライブパワー[dBm]\n",
    "freq_MHz_min, freq_MHz_max = 8700, 8800 #見たい周波数範囲[MHz]\n",
    "\n",
    "# freqに最も近い要素のindexを返す関数\n",
    "def get_index(freq_list, freq):\n",
    "    diff_array = np.abs(np.array(freq_list) - freq)\n",
    "    closest_index = np.argmin(diff_array)\n",
    "    return closest_index\n",
    "\n",
    "#周波数範囲に対応する要素番号のスライス\n",
    "f_range = np.s_[get_index(freq_MHz, freq_MHz_min) : get_index(freq_MHz, freq_MHz_max)]\n",
    "\n",
    "mag_ = mag[power]\n",
    "phase_rad_ = phase_rad[power]\n",
    "index = np.argmin(phase_rad_[f_range]) # ディップを検知したいならこちら\n",
    "#index = np.argmax(phase_rad_[f_range]) # ピークを検知したいならこちら\n",
    "# index = np.argmin(mag_[f_range]) # magで探索\n",
    "qubit_freq = freq_MHz[f_range][index]\n",
    "print(\"Qubitの周波数：\", qubit_freq, \"MHz\")\n"
   ]
  },
  {
   "cell_type": "code",
   "execution_count": 8,
   "metadata": {},
   "outputs": [
    {
     "name": "stdout",
     "output_type": "stream",
     "text": [
      "非調和度: -420 MHz\n"
     ]
    }
   ],
   "source": [
    "f_ge = 8756\n",
    "f_ef = 8336\n",
    "alpha = f_ef - f_ge\n",
    "print(\"非調和度:\", alpha, \"MHz\")"
   ]
  },
  {
   "cell_type": "code",
   "execution_count": null,
   "metadata": {},
   "outputs": [],
   "source": []
  }
 ],
 "metadata": {
  "interpreter": {
   "hash": "57468ee44aa95dd4e25b20d5089bdc40d0474ae5901f7acf4c61317f32db0a15"
  },
  "kernelspec": {
   "display_name": "Python 3.8.5 ('base')",
   "language": "python",
   "name": "python3"
  },
  "language_info": {
   "codemirror_mode": {
    "name": "ipython",
    "version": 3
   },
   "file_extension": ".py",
   "mimetype": "text/x-python",
   "name": "python",
   "nbconvert_exporter": "python",
   "pygments_lexer": "ipython3",
   "version": "3.8.5"
  },
  "orig_nbformat": 4
 },
 "nbformat": 4,
 "nbformat_minor": 2
}
