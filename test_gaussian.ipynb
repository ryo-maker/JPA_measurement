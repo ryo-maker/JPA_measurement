{
 "cells": [
  {
   "cell_type": "code",
   "execution_count": 2,
   "metadata": {},
   "outputs": [
    {
     "ename": "error",
     "evalue": "OpenCV(4.6.0) D:\\a\\opencv-python\\opencv-python\\opencv\\modules\\imgproc\\src\\color.cpp:182: error: (-215:Assertion failed) !_src.empty() in function 'cv::cvtColor'\n",
     "output_type": "error",
     "traceback": [
      "\u001b[1;31m---------------------------------------------------------------------------\u001b[0m",
      "\u001b[1;31merror\u001b[0m                                     Traceback (most recent call last)",
      "\u001b[1;32mセル1 を h:\\マイドライブ\\RyoyaOhashi\\JPA_tools\\JPA_measurement\\gaussian.ipynb\u001b[0m in \u001b[0;36m<cell line: 33>\u001b[1;34m()\u001b[0m\n\u001b[0;32m     <a href='vscode-notebook-cell:/h%3A/%E3%83%9E%E3%82%A4%E3%83%89%E3%83%A9%E3%82%A4%E3%83%96/RyoyaOhashi/JPA_tools/JPA_measurement/gaussian.ipynb#W0sZmlsZQ%3D%3D?line=28'>29</a>\u001b[0m img \u001b[39m=\u001b[39m cv2\u001b[39m.\u001b[39mimread(\u001b[39m\"\u001b[39m\u001b[39mH:/マイドライブ/RyoyaOhashi/JPA_toolsJPA_Result/re_im_diff_20220922_184017_10dB_-0.0--0.2V_8.5-11.0(1)\u001b[39m\u001b[39m\"\u001b[39m)\n\u001b[0;32m     <a href='vscode-notebook-cell:/h%3A/%E3%83%9E%E3%82%A4%E3%83%89%E3%83%A9%E3%82%A4%E3%83%96/RyoyaOhashi/JPA_tools/JPA_measurement/gaussian.ipynb#W0sZmlsZQ%3D%3D?line=30'>31</a>\u001b[0m \u001b[39m# convert grayscale\u001b[39;00m\n\u001b[0;32m     <a href='vscode-notebook-cell:/h%3A/%E3%83%9E%E3%82%A4%E3%83%89%E3%83%A9%E3%82%A4%E3%83%96/RyoyaOhashi/JPA_tools/JPA_measurement/gaussian.ipynb#W0sZmlsZQ%3D%3D?line=31'>32</a>\u001b[0m \u001b[39m# グレースケール変換\u001b[39;00m\n\u001b[1;32m---> <a href='vscode-notebook-cell:/h%3A/%E3%83%9E%E3%82%A4%E3%83%89%E3%83%A9%E3%82%A4%E3%83%96/RyoyaOhashi/JPA_tools/JPA_measurement/gaussian.ipynb#W0sZmlsZQ%3D%3D?line=32'>33</a>\u001b[0m gray \u001b[39m=\u001b[39m cv2\u001b[39m.\u001b[39;49mcvtColor(img, cv2\u001b[39m.\u001b[39;49mCOLOR_RGB2GRAY)\n\u001b[0;32m     <a href='vscode-notebook-cell:/h%3A/%E3%83%9E%E3%82%A4%E3%83%89%E3%83%A9%E3%82%A4%E3%83%96/RyoyaOhashi/JPA_tools/JPA_measurement/gaussian.ipynb#W0sZmlsZQ%3D%3D?line=34'>35</a>\u001b[0m \u001b[39m# kernel of gaussian\u001b[39;00m\n\u001b[0;32m     <a href='vscode-notebook-cell:/h%3A/%E3%83%9E%E3%82%A4%E3%83%89%E3%83%A9%E3%82%A4%E3%83%96/RyoyaOhashi/JPA_tools/JPA_measurement/gaussian.ipynb#W0sZmlsZQ%3D%3D?line=35'>36</a>\u001b[0m \u001b[39m# カーネル\u001b[39;00m\n\u001b[0;32m     <a href='vscode-notebook-cell:/h%3A/%E3%83%9E%E3%82%A4%E3%83%89%E3%83%A9%E3%82%A4%E3%83%96/RyoyaOhashi/JPA_tools/JPA_measurement/gaussian.ipynb#W0sZmlsZQ%3D%3D?line=36'>37</a>\u001b[0m kernel \u001b[39m=\u001b[39m np\u001b[39m.\u001b[39marray([[\u001b[39m1\u001b[39m\u001b[39m/\u001b[39m\u001b[39m16\u001b[39m, \u001b[39m1\u001b[39m\u001b[39m/\u001b[39m\u001b[39m8\u001b[39m, \u001b[39m1\u001b[39m\u001b[39m/\u001b[39m\u001b[39m16\u001b[39m],\n\u001b[0;32m     <a href='vscode-notebook-cell:/h%3A/%E3%83%9E%E3%82%A4%E3%83%89%E3%83%A9%E3%82%A4%E3%83%96/RyoyaOhashi/JPA_tools/JPA_measurement/gaussian.ipynb#W0sZmlsZQ%3D%3D?line=37'>38</a>\u001b[0m                    [\u001b[39m1\u001b[39m\u001b[39m/\u001b[39m\u001b[39m8\u001b[39m, \u001b[39m1\u001b[39m\u001b[39m/\u001b[39m\u001b[39m4\u001b[39m, \u001b[39m1\u001b[39m\u001b[39m/\u001b[39m\u001b[39m8\u001b[39m],\n\u001b[0;32m     <a href='vscode-notebook-cell:/h%3A/%E3%83%9E%E3%82%A4%E3%83%89%E3%83%A9%E3%82%A4%E3%83%96/RyoyaOhashi/JPA_tools/JPA_measurement/gaussian.ipynb#W0sZmlsZQ%3D%3D?line=38'>39</a>\u001b[0m                    [\u001b[39m1\u001b[39m\u001b[39m/\u001b[39m\u001b[39m16\u001b[39m, \u001b[39m1\u001b[39m\u001b[39m/\u001b[39m\u001b[39m8\u001b[39m, \u001b[39m1\u001b[39m\u001b[39m/\u001b[39m\u001b[39m16\u001b[39m]])\n",
      "\u001b[1;31merror\u001b[0m: OpenCV(4.6.0) D:\\a\\opencv-python\\opencv-python\\opencv\\modules\\imgproc\\src\\color.cpp:182: error: (-215:Assertion failed) !_src.empty() in function 'cv::cvtColor'\n"
     ]
    }
   ],
   "source": [
    "#-*- coding:utf-8 -*-\n",
    "import cv2\n",
    "import numpy as np\n",
    "\n",
    "def gaussian_filter(src, kernel):\n",
    "    # get kernel size\n",
    "    # カーネルサイズ\n",
    "    m, n = kernel.shape\n",
    "    \n",
    "    # width of skip\n",
    "    # 畳み込み演算をしない領域の幅\n",
    "    d = int((m-1)/2)\n",
    "    h, w = src.shape[0], src.shape[1]\n",
    "    \n",
    "    # ndarray of destination\n",
    "    # 出力画像用の配列（要素値は入力画像と同じ）\n",
    "    dst = src.copy()\n",
    "\n",
    "    # Spatial filtering\n",
    "    for y in range(d, h - d):\n",
    "        for x in range(d, w - d):\n",
    "            dst[y][x] = np.sum(src[y-d:y+d+1, x-d:x+d+1]*kernel)\n",
    "            \n",
    "    return dst\n",
    "\n",
    "\n",
    "# load image (grayscale)\n",
    "# 入力画像を読み込み\n",
    "img = cv2.imread(\"H:/マイドライブ/RyoyaOhashi/JPA_toolsJPA_Result/re_im_diff_20220922_184017_10dB_-0.0--0.2V_8.5-11.0(1)\")\n",
    "\n",
    "# convert grayscale\n",
    "# グレースケール変換\n",
    "gray = cv2.cvtColor(img, cv2.COLOR_RGB2GRAY)\n",
    "    \n",
    "# kernel of gaussian\n",
    "# カーネル\n",
    "kernel = np.array([[1/16, 1/8, 1/16],\n",
    "                   [1/8, 1/4, 1/8],\n",
    "                   [1/16, 1/8, 1/16]])\n",
    "\n",
    "# Spatial filtering\n",
    "# 方法1\n",
    "dst = gaussian_filter(gray, kernel)\n",
    "    \n",
    "# output\n",
    "# 結果を出力\n",
    "cv2.imwrite(\"H:/マイドライブ/RyoyaOhashi/JPA_toolsJPA_Result/output.png\", dst)"
   ]
  },
  {
   "cell_type": "code",
   "execution_count": null,
   "metadata": {},
   "outputs": [],
   "source": []
  }
 ],
 "metadata": {
  "kernelspec": {
   "display_name": "Python 3.8.5 64-bit",
   "language": "python",
   "name": "python3"
  },
  "language_info": {
   "codemirror_mode": {
    "name": "ipython",
    "version": 3
   },
   "file_extension": ".py",
   "mimetype": "text/x-python",
   "name": "python",
   "nbconvert_exporter": "python",
   "pygments_lexer": "ipython3",
   "version": "3.8.5"
  },
  "orig_nbformat": 4,
  "vscode": {
   "interpreter": {
    "hash": "570feb405e2e27c949193ac68f46852414290d515b0ba6e5d90d076ed2284471"
   }
  }
 },
 "nbformat": 4,
 "nbformat_minor": 2
}
