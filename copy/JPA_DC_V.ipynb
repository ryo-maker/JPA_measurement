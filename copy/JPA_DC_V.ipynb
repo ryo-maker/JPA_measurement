{
 "cells": [
  {
   "cell_type": "code",
   "execution_count": 43,
   "metadata": {},
   "outputs": [],
   "source": [
    "import socket\n",
    "import time"
   ]
  },
  {
   "cell_type": "code",
   "execution_count": 2,
   "metadata": {},
   "outputs": [],
   "source": [
    "'''NF Low Noise DC Voltage'''\n",
    "#通信パラメータ（いじらなくてよい）\n",
    "ip = '192.168.1.252' #IPアドレス(NFのソフトウェアから確認できる)\n",
    "send_port=10001\n",
    "recv_port=4096\n",
    "dcv = socket.socket(socket.AF_INET, socket.SOCK_STREAM)\n",
    "dcv.connect((ip, send_port))\n",
    "# dcv.sendall(b'testSend')\n"
   ]
  },
  {
   "cell_type": "code",
   "execution_count": 44,
   "metadata": {},
   "outputs": [
    {
     "name": "stdout",
     "output_type": "stream",
     "text": [
      "0.1000\n",
      "\n"
     ]
    }
   ],
   "source": [
    "\"\"\"制限電圧かける\"\"\"\n",
    "lmv = str(+0.1)\n",
    "dcv.send(str.encode(f\"LMV 1,\" + lmv + \"\\n\"))\n",
    "dcv.send(str.encode(f\"LMV? 1\\n\"))\n",
    "reply = dcv.recv(recv_port)\n",
    "reply = reply.decode(\"utf-8\")\n",
    "time.sleep(2)\n",
    "print(reply)"
   ]
  },
  {
   "cell_type": "code",
   "execution_count": 32,
   "metadata": {},
   "outputs": [
    {
     "name": "stdout",
     "output_type": "stream",
     "text": [
      "0.0000\n",
      "\n"
     ]
    }
   ],
   "source": [
    "\"\"\"現在のV値\"\"\"\n",
    "dcv.send(str.encode(\"VLT 1,0.0\\n\"))\n",
    "dcv.send(str.encode(f\"VLT? 1\\n\"))\n",
    "reply = dcv.recv(recv_port)\n",
    "reply = reply.decode(\"utf-8\")\n",
    "print(reply)"
   ]
  },
  {
   "cell_type": "code",
   "execution_count": 50,
   "metadata": {},
   "outputs": [
    {
     "name": "stdout",
     "output_type": "stream",
     "text": [
      "0.0150\n",
      "\n"
     ]
    }
   ],
   "source": [
    "\"\"\"V設定\"\"\"\n",
    "vlt = str(+0.015)\n",
    "dcv.send(str.encode(f\"VLT 1,\" + vlt + \"\\n\"))\n",
    "dcv.send(str.encode(f\"VLT? 1\\n\"))\n",
    "reply = dcv.recv(recv_port)\n",
    "reply = reply.decode(\"utf-8\")\n",
    "print(reply)"
   ]
  },
  {
   "cell_type": "code",
   "execution_count": 53,
   "metadata": {},
   "outputs": [
    {
     "name": "stdout",
     "output_type": "stream",
     "text": [
      "0\n",
      "\n"
     ]
    }
   ],
   "source": [
    "\"\"\"ON/OFF\"\"\"\n",
    "dcv.send(str.encode(\"OUT? 1\\n\"))\n",
    "reply = dcv.recv(recv_port)\n",
    "reply = reply.decode(\"utf-8\")\n",
    "print(reply)"
   ]
  },
  {
   "cell_type": "code",
   "execution_count": 54,
   "metadata": {},
   "outputs": [
    {
     "name": "stdout",
     "output_type": "stream",
     "text": [
      "0\n",
      "\n"
     ]
    }
   ],
   "source": [
    "\"\"\"機器と接続\"\"\"\n",
    "dcv.send(str.encode(\"OUT 1,1\\n\"))\n",
    "time.sleep(2)\n",
    "dcv.send(str.encode(\"OUT? 1\\n\"))\n",
    "reply = dcv.recv(recv_port)\n",
    "reply = reply.decode(\"utf-8\")\n",
    "print(reply)"
   ]
  },
  {
   "cell_type": "code",
   "execution_count": 55,
   "metadata": {},
   "outputs": [
    {
     "name": "stdout",
     "output_type": "stream",
     "text": [
      "1\n",
      "\n"
     ]
    }
   ],
   "source": [
    "\"\"\"機器と切断\"\"\"\n",
    "dcv.send(str.encode(\"OUT 1,0\\n\"))\n",
    "dcv.send(str.encode(\"OUT? 1\\n\"))\n",
    "reply = dcv.recv(recv_port)\n",
    "reply = reply.decode(\"utf-8\")\n",
    "print(reply)"
   ]
  },
  {
   "cell_type": "code",
   "execution_count": null,
   "metadata": {},
   "outputs": [],
   "source": []
  },
  {
   "cell_type": "code",
   "execution_count": null,
   "metadata": {},
   "outputs": [],
   "source": []
  }
 ],
 "metadata": {
  "kernelspec": {
   "display_name": "Python 3.9.12 ('base')",
   "language": "python",
   "name": "python3"
  },
  "language_info": {
   "codemirror_mode": {
    "name": "ipython",
    "version": 3
   },
   "file_extension": ".py",
   "mimetype": "text/x-python",
   "name": "python",
   "nbconvert_exporter": "python",
   "pygments_lexer": "ipython3",
   "version": "3.9.12"
  },
  "orig_nbformat": 4,
  "vscode": {
   "interpreter": {
    "hash": "57468ee44aa95dd4e25b20d5089bdc40d0474ae5901f7acf4c61317f32db0a15"
   }
  }
 },
 "nbformat": 4,
 "nbformat_minor": 2
}
