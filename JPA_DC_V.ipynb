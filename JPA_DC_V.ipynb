{
 "cells": [
  {
   "cell_type": "code",
   "execution_count": 12,
   "metadata": {},
   "outputs": [],
   "source": [
    "import socket"
   ]
  },
  {
   "cell_type": "code",
   "execution_count": 13,
   "metadata": {},
   "outputs": [],
   "source": [
    "'''NF Low Noise DC Voltage'''\n",
    "#通信パラメータ（いじらなくてよい）\n",
    "ip = '192.168.1.252' #IPアドレス(NFのソフトウェアから確認できる)\n",
    "send_port=10001\n",
    "recv_port=4096\n",
    "dcv = socket.socket(socket.AF_INET, socket.SOCK_STREAM)\n",
    "dcv.connect((ip, send_port))\n",
    "# dcv.sendall(b'testSend')\n"
   ]
  },
  {
   "cell_type": "code",
   "execution_count": 51,
   "metadata": {},
   "outputs": [
    {
     "data": {
      "text/plain": [
       "10"
      ]
     },
     "execution_count": 51,
     "metadata": {},
     "output_type": "execute_result"
    }
   ],
   "source": [
    "lmv = str(+0.1)\n",
    "dcv.send(str.encode(f\"LMV 1,\" + lmv + \"\\n\"))\n"
   ]
  },
  {
   "cell_type": "code",
   "execution_count": 70,
   "metadata": {},
   "outputs": [
    {
     "name": "stdout",
     "output_type": "stream",
     "text": [
      "0.1000\n",
      "\n"
     ]
    }
   ],
   "source": [
    "dcv.send(str.encode(f\"LMV? 1\\n\"))\n",
    "reply = dcv.recv(recv_port)\n",
    "reply = reply.decode(\"utf-8\")\n",
    "print(reply)"
   ]
  },
  {
   "cell_type": "code",
   "execution_count": 66,
   "metadata": {},
   "outputs": [
    {
     "name": "stdout",
     "output_type": "stream",
     "text": [
      "0.0000\n",
      "\n"
     ]
    }
   ],
   "source": [
    "dcv.send(str.encode(f\"VLT? 1\\n\"))\n",
    "reply = dcv.recv(recv_port)\n",
    "reply = reply.decode(\"utf-8\")\n",
    "print(reply)"
   ]
  },
  {
   "cell_type": "code",
   "execution_count": 63,
   "metadata": {},
   "outputs": [
    {
     "data": {
      "text/plain": [
       "10"
      ]
     },
     "execution_count": 63,
     "metadata": {},
     "output_type": "execute_result"
    }
   ],
   "source": [
    "vlt = str(+0.0)\n",
    "dcv.send(str.encode(f\"VLT 1,\" + vlt + \"\\n\"))\n"
   ]
  },
  {
   "cell_type": "code",
   "execution_count": 56,
   "metadata": {},
   "outputs": [
    {
     "name": "stdout",
     "output_type": "stream",
     "text": [
      "0.1000\n",
      "\n"
     ]
    }
   ],
   "source": [
    "dcv.send(str.encode(f\"VLT? 1\\n\"))\n",
    "reply = dcv.recv(recv_port)\n",
    "reply = reply.decode(\"utf-8\")\n",
    "print(reply)"
   ]
  },
  {
   "cell_type": "code",
   "execution_count": 57,
   "metadata": {},
   "outputs": [
    {
     "data": {
      "text/plain": [
       "8"
      ]
     },
     "execution_count": 57,
     "metadata": {},
     "output_type": "execute_result"
    }
   ],
   "source": [
    "dcv.send(str.encode(\"OUT 1,1\\n\"))\n"
   ]
  },
  {
   "cell_type": "code",
   "execution_count": 59,
   "metadata": {},
   "outputs": [
    {
     "name": "stdout",
     "output_type": "stream",
     "text": [
      "1\n",
      "\n"
     ]
    }
   ],
   "source": [
    "dcv.send(str.encode(\"OUT? 1\\n\"))\n",
    "reply = dcv.recv(recv_port)\n",
    "reply = reply.decode(\"utf-8\")\n",
    "print(reply)"
   ]
  },
  {
   "cell_type": "code",
   "execution_count": 60,
   "metadata": {},
   "outputs": [
    {
     "data": {
      "text/plain": [
       "8"
      ]
     },
     "execution_count": 60,
     "metadata": {},
     "output_type": "execute_result"
    }
   ],
   "source": [
    "dcv.send(str.encode(\"OUT 1,0\\n\"))\n"
   ]
  },
  {
   "cell_type": "code",
   "execution_count": 62,
   "metadata": {},
   "outputs": [
    {
     "name": "stdout",
     "output_type": "stream",
     "text": [
      "0\n",
      "\n"
     ]
    }
   ],
   "source": [
    "dcv.send(str.encode(\"OUT? 1\\n\"))\n",
    "reply = dcv.recv(recv_port)\n",
    "reply = reply.decode(\"utf-8\")\n",
    "print(reply)"
   ]
  },
  {
   "cell_type": "code",
   "execution_count": null,
   "metadata": {},
   "outputs": [],
   "source": [
    "RESULT_PATH = "
   ]
  }
 ],
 "metadata": {
  "kernelspec": {
   "display_name": "Python 3.8.5 64-bit",
   "language": "python",
   "name": "python3"
  },
  "language_info": {
   "codemirror_mode": {
    "name": "ipython",
    "version": 3
   },
   "file_extension": ".py",
   "mimetype": "text/x-python",
   "name": "python",
   "nbconvert_exporter": "python",
   "pygments_lexer": "ipython3",
   "version": "3.8.5"
  },
  "orig_nbformat": 4,
  "vscode": {
   "interpreter": {
    "hash": "570feb405e2e27c949193ac68f46852414290d515b0ba6e5d90d076ed2284471"
   }
  }
 },
 "nbformat": 4,
 "nbformat_minor": 2
}
